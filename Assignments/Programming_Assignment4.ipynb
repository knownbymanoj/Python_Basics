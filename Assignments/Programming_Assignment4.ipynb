{
 "cells": [
  {
   "cell_type": "raw",
   "metadata": {},
   "source": [
    "1. Write a Python Program to Find the Factorial of a Number?"
   ]
  },
  {
   "cell_type": "code",
   "execution_count": 1,
   "metadata": {},
   "outputs": [
    {
     "name": "stdout",
     "output_type": "stream",
     "text": [
      "24\n"
     ]
    }
   ],
   "source": [
    "n = 5\n",
    "fact = 1\n",
    "for i in range(1,n):\n",
    "    fact = fact*i\n",
    "print(fact)"
   ]
  },
  {
   "cell_type": "raw",
   "metadata": {},
   "source": [
    "2. Write a Python Program to Display the multiplication Table?"
   ]
  },
  {
   "cell_type": "code",
   "execution_count": 2,
   "metadata": {},
   "outputs": [
    {
     "name": "stdout",
     "output_type": "stream",
     "text": [
      "Print a table number to print: 5\n",
      "5 * 1 = 5\n",
      "5 * 2 = 10\n",
      "5 * 3 = 15\n",
      "5 * 4 = 20\n",
      "5 * 5 = 25\n",
      "5 * 6 = 30\n",
      "5 * 7 = 35\n",
      "5 * 8 = 40\n",
      "5 * 9 = 45\n",
      "5 * 10 = 50\n"
     ]
    }
   ],
   "source": [
    "n = int(input(\"Print a table number to print: \"))\n",
    "for i in range(1,11):\n",
    "    mult = n * i \n",
    "    print(f\"{n} * {i} = {mult}\")"
   ]
  },
  {
   "cell_type": "raw",
   "metadata": {},
   "source": [
    "3. Write a Python Program to Print the Fibonacci sequence?"
   ]
  },
  {
   "cell_type": "code",
   "execution_count": 3,
   "metadata": {},
   "outputs": [
    {
     "name": "stdout",
     "output_type": "stream",
     "text": [
      "No. of fibonnaci series: 78\n",
      "0 1 1 2 3 5 8 13 21 34 55 89 144 233 377 610 987 1597 2584 4181 6765 10946 17711 28657 46368 75025 121393 196418 317811 514229 832040 1346269 2178309 3524578 5702887 9227465 14930352 24157817 39088169 63245986 102334155 165580141 267914296 433494437 701408733 1134903170 1836311903 2971215073 4807526976 7778742049 12586269025 20365011074 32951280099 53316291173 86267571272 139583862445 225851433717 365435296162 591286729879 956722026041 1548008755920 2504730781961 4052739537881 6557470319842 10610209857723 17167680177565 27777890035288 44945570212853 72723460248141 117669030460994 190392490709135 308061521170129 498454011879264 806515533049393 1304969544928657 2111485077978050 3416454622906707 5527939700884757 "
     ]
    }
   ],
   "source": [
    "n = int(input(\"No. of fibonnaci series: \"))\n",
    "\n",
    "a = 0\n",
    "b = 1 \n",
    "\n",
    "if n ==1:\n",
    "    print(a)\n",
    "else:\n",
    "    print(a, end = \" \")\n",
    "    print(b, end = \" \")\n",
    "\n",
    "for i in range(2,n):\n",
    "    c = a+b\n",
    "    a = b\n",
    "    b = c\n",
    "    print(c, end =\" \")"
   ]
  },
  {
   "cell_type": "raw",
   "metadata": {},
   "source": [
    "4. Write a Python Program to Check Armstrong Number?"
   ]
  },
  {
   "cell_type": "code",
   "execution_count": 4,
   "metadata": {},
   "outputs": [
    {
     "name": "stdout",
     "output_type": "stream",
     "text": [
      "Give a number to check if it is an Armstrong number or not:143\n",
      "It is not a armstrong number\n"
     ]
    }
   ],
   "source": [
    "t = int(input(\"Give a number to check if it is an Armstrong number or not:\"))\n",
    "n = t\n",
    "s = 0\n",
    "rem = 0\n",
    "while(t!=0):\n",
    "    rem = t%10\n",
    "    #print(f\"rem {rem}\")\n",
    "    s += pow(rem,3)\n",
    "    #print(f\"sum {s}\")\n",
    "    t = int(t/10)\n",
    "    #print(f\"t {t}\")\n",
    "if s==n:\n",
    "    print(\"It is a armgstrong number\")\n",
    "else:\n",
    "    print(\"It is not a armstrong number\")\n",
    "    "
   ]
  },
  {
   "cell_type": "raw",
   "metadata": {},
   "source": [
    "5. Write a Python Program to Find Armstrong Number in an Interval?\n"
   ]
  },
  {
   "cell_type": "code",
   "execution_count": 15,
   "metadata": {},
   "outputs": [
    {
     "name": "stdout",
     "output_type": "stream",
     "text": [
      "Give an interval to check in between : \n",
      "from: 10\n",
      "to: 1000\n",
      "153 is a armgstrong number\n",
      "370 is a armgstrong number\n",
      "371 is a armgstrong number\n",
      "407 is a armgstrong number\n"
     ]
    }
   ],
   "source": [
    "#t = int(input(\"Give a number to check if it is an Armstrong number or not:\"))\n",
    "print(\"Give an interval to check in between : \")\n",
    "start = int(input(\"from: \"))\n",
    "stop = int(input(\"to: \"))\n",
    "for i in range(start,stop+1):\n",
    "    t = i\n",
    "    n = t\n",
    "    s = 0\n",
    "    rem = 0\n",
    "    while(t>0):\n",
    "        rem = t%10\n",
    "\n",
    "        s += pow(rem,len(str(i)))\n",
    "\n",
    "        t = int(t/10)\n",
    "\n",
    "    if s==n:\n",
    "        print(f\"{n} is a armgstrong number\")\n",
    "    "
   ]
  },
  {
   "cell_type": "raw",
   "metadata": {},
   "source": [
    "6. Write a Python Program to Find the Sum of Natural Numbers?"
   ]
  },
  {
   "cell_type": "code",
   "execution_count": 18,
   "metadata": {},
   "outputs": [
    {
     "name": "stdout",
     "output_type": "stream",
     "text": [
      "Enter a natural number: 5\n",
      "The sum is: 15\n"
     ]
    }
   ],
   "source": [
    "n = int(input(\"Enter a natural number: \"))\n",
    "if n<0:\n",
    "    print(\"Enter a positive number\")\n",
    "else:\n",
    "    s = 0\n",
    "    while(n>0):\n",
    "        s += n\n",
    "        n -=1\n",
    "    print(\"The sum is:\", s)"
   ]
  }
 ],
 "metadata": {
  "kernelspec": {
   "display_name": "Python 3",
   "language": "python",
   "name": "python3"
  },
  "language_info": {
   "codemirror_mode": {
    "name": "ipython",
    "version": 3
   },
   "file_extension": ".py",
   "mimetype": "text/x-python",
   "name": "python",
   "nbconvert_exporter": "python",
   "pygments_lexer": "ipython3",
   "version": "3.6.5"
  }
 },
 "nbformat": 4,
 "nbformat_minor": 2
}
