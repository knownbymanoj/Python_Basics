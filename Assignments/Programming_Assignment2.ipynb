{
 "cells": [
  {
   "cell_type": "raw",
   "metadata": {},
   "source": [
    "1. Write a Python program to convert kilometers to miles?"
   ]
  },
  {
   "cell_type": "code",
   "execution_count": 9,
   "metadata": {},
   "outputs": [
    {
     "name": "stdout",
     "output_type": "stream",
     "text": [
      "Give number of kilometers:12\n",
      "No. of miles is :7.46\n"
     ]
    }
   ],
   "source": [
    "a = float(input(\"Give number of kilometers:\"))\n",
    "print(f\"No. of miles is :{round(a*0.62137119,2)}\")"
   ]
  },
  {
   "cell_type": "raw",
   "metadata": {},
   "source": [
    "2. Write a Python program to convert Celsius to Fahrenheit?"
   ]
  },
  {
   "cell_type": "code",
   "execution_count": 10,
   "metadata": {},
   "outputs": [
    {
     "name": "stdout",
     "output_type": "stream",
     "text": [
      "Give degrees in Celsius:37.5\n",
      "Celsius after converted to Fahrenheit :1267.5\n"
     ]
    }
   ],
   "source": [
    "a = float(input(\"Give degrees in Celsius:\"))\n",
    "print(f\"Celsius after converted to Fahrenheit :{round(a*33.8,2)}\")"
   ]
  },
  {
   "cell_type": "markdown",
   "metadata": {},
   "source": [
    "Write a Python program to display calendar?"
   ]
  },
  {
   "cell_type": "code",
   "execution_count": 12,
   "metadata": {},
   "outputs": [
    {
     "name": "stdout",
     "output_type": "stream",
     "text": [
      "    August 2022\n",
      "Mo Tu We Th Fr Sa Su\n",
      " 1  2  3  4  5  6  7\n",
      " 8  9 10 11 12 13 14\n",
      "15 16 17 18 19 20 21\n",
      "22 23 24 25 26 27 28\n",
      "29 30 31\n",
      "\n"
     ]
    }
   ],
   "source": [
    "import calendar\n",
    "year = 2022\n",
    "month = 8\n",
    "print(calendar.month(year, month))"
   ]
  },
  {
   "cell_type": "raw",
   "metadata": {},
   "source": [
    "Write a Python program to solve quadratic equation?"
   ]
  },
  {
   "cell_type": "code",
   "execution_count": 25,
   "metadata": {},
   "outputs": [
    {
     "name": "stdout",
     "output_type": "stream",
     "text": [
      "x1: -2.28 and x2: 8.28\n"
     ]
    }
   ],
   "source": [
    "import math\n",
    "# ax^2+bx+c\n",
    "a=-2\n",
    "b=12\n",
    "c=54\n",
    "#Formula\n",
    "n = math.sqrt(b^2-4*a*c)\n",
    "x1 = (-b+n)/(2*a)\n",
    "x2 = (-b-n)/(2*a)\n",
    "print(f\"x1: {round(x1,2)} and x2: {round(x2,2)}\")"
   ]
  },
  {
   "cell_type": "raw",
   "metadata": {},
   "source": [
    "5. Write a Python program to swap two variables without temp variable?"
   ]
  },
  {
   "cell_type": "code",
   "execution_count": 30,
   "metadata": {},
   "outputs": [
    {
     "name": "stdout",
     "output_type": "stream",
     "text": [
      "First number:2\n",
      "Second number:3\n",
      "m: 3.0, n:2.0\n"
     ]
    }
   ],
   "source": [
    "m = float(input(\"First number:\"))\n",
    "n = float(input(\"Second number:\"))\n",
    "m,n = n,m\n",
    "print(f\"m: {m}, n:{n}\")"
   ]
  },
  {
   "cell_type": "code",
   "execution_count": null,
   "metadata": {},
   "outputs": [],
   "source": []
  }
 ],
 "metadata": {
  "kernelspec": {
   "display_name": "Python 3",
   "language": "python",
   "name": "python3"
  },
  "language_info": {
   "codemirror_mode": {
    "name": "ipython",
    "version": 3
   },
   "file_extension": ".py",
   "mimetype": "text/x-python",
   "name": "python",
   "nbconvert_exporter": "python",
   "pygments_lexer": "ipython3",
   "version": "3.6.5"
  }
 },
 "nbformat": 4,
 "nbformat_minor": 2
}
